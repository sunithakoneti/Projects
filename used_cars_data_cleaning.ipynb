{
 "cells": [
  {
   "cell_type": "code",
   "execution_count": 1,
   "id": "8579dc44",
   "metadata": {},
   "outputs": [],
   "source": [
    "import pandas as pd\n",
    "import numpy as np\n",
    "import re\n",
    "import warnings\n",
    "warnings.filterwarnings(\"ignore\")"
   ]
  },
  {
   "cell_type": "code",
   "execution_count": 2,
   "id": "9adce27e",
   "metadata": {},
   "outputs": [],
   "source": [
    "df = pd.read_csv(\"total_used_cars\")"
   ]
  },
  {
   "cell_type": "code",
   "execution_count": 3,
   "id": "36330cf6",
   "metadata": {},
   "outputs": [
    {
     "data": {
      "text/html": [
       "<div>\n",
       "<style scoped>\n",
       "    .dataframe tbody tr th:only-of-type {\n",
       "        vertical-align: middle;\n",
       "    }\n",
       "\n",
       "    .dataframe tbody tr th {\n",
       "        vertical-align: top;\n",
       "    }\n",
       "\n",
       "    .dataframe thead th {\n",
       "        text-align: right;\n",
       "    }\n",
       "</style>\n",
       "<table border=\"1\" class=\"dataframe\">\n",
       "  <thead>\n",
       "    <tr style=\"text-align: right;\">\n",
       "      <th></th>\n",
       "      <th>Unnamed: 0.3</th>\n",
       "      <th>Unnamed: 0.2</th>\n",
       "      <th>Unnamed: 0.1</th>\n",
       "      <th>Unnamed: 0</th>\n",
       "      <th>state</th>\n",
       "      <th>city</th>\n",
       "      <th>year</th>\n",
       "      <th>make</th>\n",
       "      <th>model</th>\n",
       "      <th>series</th>\n",
       "      <th>transmission</th>\n",
       "      <th>fuel</th>\n",
       "      <th>owner</th>\n",
       "      <th>emi</th>\n",
       "      <th>kilometers</th>\n",
       "      <th>mileage</th>\n",
       "      <th>seating</th>\n",
       "      <th>price</th>\n",
       "    </tr>\n",
       "  </thead>\n",
       "  <tbody>\n",
       "    <tr>\n",
       "      <th>0</th>\n",
       "      <td>0</td>\n",
       "      <td>0.0</td>\n",
       "      <td>0</td>\n",
       "      <td>0</td>\n",
       "      <td>CapitalUT</td>\n",
       "      <td>Delhi</td>\n",
       "      <td>2020</td>\n",
       "      <td>FORD</td>\n",
       "      <td>ECOSPORT</td>\n",
       "      <td>TITANIUM 1.5L DIESEL</td>\n",
       "      <td>Manual</td>\n",
       "      <td>Diesel</td>\n",
       "      <td>1st</td>\n",
       "      <td>15425</td>\n",
       "      <td>96075</td>\n",
       "      <td>9</td>\n",
       "      <td>5</td>\n",
       "      <td>789000</td>\n",
       "    </tr>\n",
       "    <tr>\n",
       "      <th>1</th>\n",
       "      <td>1</td>\n",
       "      <td>1.0</td>\n",
       "      <td>1</td>\n",
       "      <td>1</td>\n",
       "      <td>CapitalUT</td>\n",
       "      <td>Delhi</td>\n",
       "      <td>2016</td>\n",
       "      <td>Ford</td>\n",
       "      <td>Ecosport</td>\n",
       "      <td>1.5AMBIENTE TI VCT</td>\n",
       "      <td>Manual</td>\n",
       "      <td>Petrol</td>\n",
       "      <td>1st</td>\n",
       "      <td>10792</td>\n",
       "      <td>55017</td>\n",
       "      <td>9</td>\n",
       "      <td>5</td>\n",
       "      <td>552000</td>\n",
       "    </tr>\n",
       "    <tr>\n",
       "      <th>2</th>\n",
       "      <td>2</td>\n",
       "      <td>2.0</td>\n",
       "      <td>2</td>\n",
       "      <td>2</td>\n",
       "      <td>CapitalUT</td>\n",
       "      <td>Delhi</td>\n",
       "      <td>2018</td>\n",
       "      <td>FORD</td>\n",
       "      <td>ECOSPORT</td>\n",
       "      <td>AMBIENTE 1.5L DIESEL</td>\n",
       "      <td>Manual</td>\n",
       "      <td>Diesel</td>\n",
       "      <td>1st</td>\n",
       "      <td>13978</td>\n",
       "      <td>24931</td>\n",
       "      <td>9</td>\n",
       "      <td>5</td>\n",
       "      <td>715000</td>\n",
       "    </tr>\n",
       "    <tr>\n",
       "      <th>3</th>\n",
       "      <td>3</td>\n",
       "      <td>3.0</td>\n",
       "      <td>3</td>\n",
       "      <td>3</td>\n",
       "      <td>CapitalUT</td>\n",
       "      <td>Delhi</td>\n",
       "      <td>2019</td>\n",
       "      <td>FORD</td>\n",
       "      <td>ECOSPORT</td>\n",
       "      <td>TITANIUM 1.5L PETROL</td>\n",
       "      <td>Manual</td>\n",
       "      <td>Petrol</td>\n",
       "      <td>1st</td>\n",
       "      <td>15503</td>\n",
       "      <td>22270</td>\n",
       "      <td>9</td>\n",
       "      <td>5</td>\n",
       "      <td>793000</td>\n",
       "    </tr>\n",
       "    <tr>\n",
       "      <th>4</th>\n",
       "      <td>4</td>\n",
       "      <td>4.0</td>\n",
       "      <td>4</td>\n",
       "      <td>4</td>\n",
       "      <td>CapitalUT</td>\n",
       "      <td>Delhi</td>\n",
       "      <td>2015</td>\n",
       "      <td>Ford</td>\n",
       "      <td>Ecosport</td>\n",
       "      <td>TITANIUM 1.5L PETROL AT</td>\n",
       "      <td>Automatic</td>\n",
       "      <td>Petrol</td>\n",
       "      <td>2nd</td>\n",
       "      <td>10440</td>\n",
       "      <td>78906</td>\n",
       "      <td>9</td>\n",
       "      <td>5</td>\n",
       "      <td>534000</td>\n",
       "    </tr>\n",
       "  </tbody>\n",
       "</table>\n",
       "</div>"
      ],
      "text/plain": [
       "   Unnamed: 0.3  Unnamed: 0.2  Unnamed: 0.1  Unnamed: 0      state   city  \\\n",
       "0             0           0.0             0           0  CapitalUT  Delhi   \n",
       "1             1           1.0             1           1  CapitalUT  Delhi   \n",
       "2             2           2.0             2           2  CapitalUT  Delhi   \n",
       "3             3           3.0             3           3  CapitalUT  Delhi   \n",
       "4             4           4.0             4           4  CapitalUT  Delhi   \n",
       "\n",
       "   year  make     model                   series transmission    fuel owner  \\\n",
       "0  2020  FORD  ECOSPORT     TITANIUM 1.5L DIESEL       Manual  Diesel  1st    \n",
       "1  2016  Ford  Ecosport       1.5AMBIENTE TI VCT       Manual  Petrol  1st    \n",
       "2  2018  FORD  ECOSPORT     AMBIENTE 1.5L DIESEL       Manual  Diesel  1st    \n",
       "3  2019  FORD  ECOSPORT     TITANIUM 1.5L PETROL       Manual  Petrol  1st    \n",
       "4  2015  Ford  Ecosport  TITANIUM 1.5L PETROL AT    Automatic  Petrol  2nd    \n",
       "\n",
       "     emi  kilometers  mileage  seating   price  \n",
       "0  15425       96075        9        5  789000  \n",
       "1  10792       55017        9        5  552000  \n",
       "2  13978       24931        9        5  715000  \n",
       "3  15503       22270        9        5  793000  \n",
       "4  10440       78906        9        5  534000  "
      ]
     },
     "execution_count": 3,
     "metadata": {},
     "output_type": "execute_result"
    }
   ],
   "source": [
    "df.head()"
   ]
  },
  {
   "cell_type": "code",
   "execution_count": 4,
   "id": "24cc2180",
   "metadata": {},
   "outputs": [],
   "source": [
    "### Droping unnecessary columns1\n",
    "df.drop([\"Unnamed: 0.3\",\"Unnamed: 0.2\",\"Unnamed: 0.1\",\"Unnamed: 0\"],axis=1,inplace=True)"
   ]
  },
  {
   "cell_type": "code",
   "execution_count": 5,
   "id": "6a9c4b9d",
   "metadata": {},
   "outputs": [
    {
     "data": {
      "text/html": [
       "<div>\n",
       "<style scoped>\n",
       "    .dataframe tbody tr th:only-of-type {\n",
       "        vertical-align: middle;\n",
       "    }\n",
       "\n",
       "    .dataframe tbody tr th {\n",
       "        vertical-align: top;\n",
       "    }\n",
       "\n",
       "    .dataframe thead th {\n",
       "        text-align: right;\n",
       "    }\n",
       "</style>\n",
       "<table border=\"1\" class=\"dataframe\">\n",
       "  <thead>\n",
       "    <tr style=\"text-align: right;\">\n",
       "      <th></th>\n",
       "      <th>state</th>\n",
       "      <th>city</th>\n",
       "      <th>year</th>\n",
       "      <th>make</th>\n",
       "      <th>model</th>\n",
       "      <th>series</th>\n",
       "      <th>transmission</th>\n",
       "      <th>fuel</th>\n",
       "      <th>owner</th>\n",
       "      <th>emi</th>\n",
       "      <th>kilometers</th>\n",
       "      <th>mileage</th>\n",
       "      <th>seating</th>\n",
       "      <th>price</th>\n",
       "    </tr>\n",
       "  </thead>\n",
       "  <tbody>\n",
       "    <tr>\n",
       "      <th>0</th>\n",
       "      <td>CapitalUT</td>\n",
       "      <td>Delhi</td>\n",
       "      <td>2020</td>\n",
       "      <td>FORD</td>\n",
       "      <td>ECOSPORT</td>\n",
       "      <td>TITANIUM 1.5L DIESEL</td>\n",
       "      <td>Manual</td>\n",
       "      <td>Diesel</td>\n",
       "      <td>1st</td>\n",
       "      <td>15425</td>\n",
       "      <td>96075</td>\n",
       "      <td>9</td>\n",
       "      <td>5</td>\n",
       "      <td>789000</td>\n",
       "    </tr>\n",
       "    <tr>\n",
       "      <th>1</th>\n",
       "      <td>CapitalUT</td>\n",
       "      <td>Delhi</td>\n",
       "      <td>2016</td>\n",
       "      <td>Ford</td>\n",
       "      <td>Ecosport</td>\n",
       "      <td>1.5AMBIENTE TI VCT</td>\n",
       "      <td>Manual</td>\n",
       "      <td>Petrol</td>\n",
       "      <td>1st</td>\n",
       "      <td>10792</td>\n",
       "      <td>55017</td>\n",
       "      <td>9</td>\n",
       "      <td>5</td>\n",
       "      <td>552000</td>\n",
       "    </tr>\n",
       "    <tr>\n",
       "      <th>2</th>\n",
       "      <td>CapitalUT</td>\n",
       "      <td>Delhi</td>\n",
       "      <td>2018</td>\n",
       "      <td>FORD</td>\n",
       "      <td>ECOSPORT</td>\n",
       "      <td>AMBIENTE 1.5L DIESEL</td>\n",
       "      <td>Manual</td>\n",
       "      <td>Diesel</td>\n",
       "      <td>1st</td>\n",
       "      <td>13978</td>\n",
       "      <td>24931</td>\n",
       "      <td>9</td>\n",
       "      <td>5</td>\n",
       "      <td>715000</td>\n",
       "    </tr>\n",
       "    <tr>\n",
       "      <th>3</th>\n",
       "      <td>CapitalUT</td>\n",
       "      <td>Delhi</td>\n",
       "      <td>2019</td>\n",
       "      <td>FORD</td>\n",
       "      <td>ECOSPORT</td>\n",
       "      <td>TITANIUM 1.5L PETROL</td>\n",
       "      <td>Manual</td>\n",
       "      <td>Petrol</td>\n",
       "      <td>1st</td>\n",
       "      <td>15503</td>\n",
       "      <td>22270</td>\n",
       "      <td>9</td>\n",
       "      <td>5</td>\n",
       "      <td>793000</td>\n",
       "    </tr>\n",
       "    <tr>\n",
       "      <th>4</th>\n",
       "      <td>CapitalUT</td>\n",
       "      <td>Delhi</td>\n",
       "      <td>2015</td>\n",
       "      <td>Ford</td>\n",
       "      <td>Ecosport</td>\n",
       "      <td>TITANIUM 1.5L PETROL AT</td>\n",
       "      <td>Automatic</td>\n",
       "      <td>Petrol</td>\n",
       "      <td>2nd</td>\n",
       "      <td>10440</td>\n",
       "      <td>78906</td>\n",
       "      <td>9</td>\n",
       "      <td>5</td>\n",
       "      <td>534000</td>\n",
       "    </tr>\n",
       "  </tbody>\n",
       "</table>\n",
       "</div>"
      ],
      "text/plain": [
       "       state   city  year  make     model                   series  \\\n",
       "0  CapitalUT  Delhi  2020  FORD  ECOSPORT     TITANIUM 1.5L DIESEL   \n",
       "1  CapitalUT  Delhi  2016  Ford  Ecosport       1.5AMBIENTE TI VCT   \n",
       "2  CapitalUT  Delhi  2018  FORD  ECOSPORT     AMBIENTE 1.5L DIESEL   \n",
       "3  CapitalUT  Delhi  2019  FORD  ECOSPORT     TITANIUM 1.5L PETROL   \n",
       "4  CapitalUT  Delhi  2015  Ford  Ecosport  TITANIUM 1.5L PETROL AT   \n",
       "\n",
       "  transmission    fuel owner    emi  kilometers  mileage  seating   price  \n",
       "0       Manual  Diesel  1st   15425       96075        9        5  789000  \n",
       "1       Manual  Petrol  1st   10792       55017        9        5  552000  \n",
       "2       Manual  Diesel  1st   13978       24931        9        5  715000  \n",
       "3       Manual  Petrol  1st   15503       22270        9        5  793000  \n",
       "4    Automatic  Petrol  2nd   10440       78906        9        5  534000  "
      ]
     },
     "execution_count": 5,
     "metadata": {},
     "output_type": "execute_result"
    }
   ],
   "source": [
    "df.head()"
   ]
  },
  {
   "cell_type": "code",
   "execution_count": 6,
   "id": "72edb805",
   "metadata": {},
   "outputs": [
    {
     "data": {
      "text/plain": [
       "array(['CapitalUT', 'Maharashtra', 'WestBengal', 'Kerala', 'Haryana',\n",
       "       'UttarPradesh', 'Gujarat', 'Telangana', 'Madhya Pradesh',\n",
       "       'Uttar Pradesh', 'Rajasthan', 'Tamil Nadu', 'Karnataka'],\n",
       "      dtype=object)"
      ]
     },
     "execution_count": 6,
     "metadata": {},
     "output_type": "execute_result"
    }
   ],
   "source": [
    "### check state column\n",
    "df[\"state\"].unique()"
   ]
  },
  {
   "cell_type": "code",
   "execution_count": 7,
   "id": "1566102a",
   "metadata": {},
   "outputs": [
    {
     "data": {
      "text/plain": [
       "{'CapitalUT',\n",
       " 'Gujarat',\n",
       " 'Haryana',\n",
       " 'Karnataka',\n",
       " 'Kerala',\n",
       " 'Madhya Pradesh',\n",
       " 'Maharashtra',\n",
       " 'Rajasthan',\n",
       " 'Tamil Nadu',\n",
       " 'Telangana',\n",
       " 'Uttar Pradesh',\n",
       " 'WestBengal'}"
      ]
     },
     "execution_count": 7,
     "metadata": {},
     "output_type": "execute_result"
    }
   ],
   "source": [
    "state_list = []\n",
    "for i in df[\"state\"]:\n",
    "    if i == \"UttarPradesh\":\n",
    "        state_list.append(\"Uttar Pradesh\")\n",
    "    else:\n",
    "        state_list.append(i)\n",
    "set(state_list)\n",
    "    \n",
    "       "
   ]
  },
  {
   "cell_type": "code",
   "execution_count": 8,
   "id": "919e12cf",
   "metadata": {},
   "outputs": [
    {
     "data": {
      "text/plain": [
       "array(['CapitalUT', 'Maharashtra', 'WestBengal', 'Kerala', 'Haryana',\n",
       "       'Uttar Pradesh', 'Gujarat', 'Telangana', 'Madhya Pradesh',\n",
       "       'Rajasthan', 'Tamil Nadu', 'Karnataka'], dtype=object)"
      ]
     },
     "execution_count": 8,
     "metadata": {},
     "output_type": "execute_result"
    }
   ],
   "source": [
    "df[\"state\"] = state_list\n",
    "df[\"state\"].unique()"
   ]
  },
  {
   "cell_type": "code",
   "execution_count": 9,
   "id": "9db563e5",
   "metadata": {},
   "outputs": [
    {
     "data": {
      "text/plain": [
       "array(['Delhi', 'Mumbai', 'Kolkata', 'Kochi', 'Gurgaon', 'Ghaziabad',\n",
       "       'Ahmedabad', 'ahmedabad', 'Noida', 'Hyderabad', 'Hderabad',\n",
       "       'Hyderbad', 'Indore', 'Lucknow', 'Pune', 'Jaipur', 'Chennai',\n",
       "       'Bangalore'], dtype=object)"
      ]
     },
     "execution_count": 9,
     "metadata": {},
     "output_type": "execute_result"
    }
   ],
   "source": [
    "### check city column\n",
    "df[\"city\"].unique()"
   ]
  },
  {
   "cell_type": "code",
   "execution_count": 10,
   "id": "80319633",
   "metadata": {},
   "outputs": [
    {
     "data": {
      "text/plain": [
       "{'Ahmedabad',\n",
       " 'Bangalore',\n",
       " 'Chennai',\n",
       " 'Delhi',\n",
       " 'Ghaziabad',\n",
       " 'Gurgaon',\n",
       " 'Hyderabad',\n",
       " 'Indore',\n",
       " 'Jaipur',\n",
       " 'Kochi',\n",
       " 'Kolkata',\n",
       " 'Lucknow',\n",
       " 'Mumbai',\n",
       " 'Noida',\n",
       " 'Pune'}"
      ]
     },
     "execution_count": 10,
     "metadata": {},
     "output_type": "execute_result"
    }
   ],
   "source": [
    "### changing hyderabad and ahmedabad names\n",
    "city_list = []\n",
    "for i in df[\"city\"]:\n",
    "    if i == \"ahmedabad\":\n",
    "        city_list.append(\"Ahmedabad\")\n",
    "    elif i == \"Hderabad\" or i == \"Hyderbad\":\n",
    "        city_list.append(\"Hyderabad\")\n",
    "    else:\n",
    "        city_list.append(i)\n",
    "set(city_list)"
   ]
  },
  {
   "cell_type": "code",
   "execution_count": 11,
   "id": "a7f201c3",
   "metadata": {},
   "outputs": [
    {
     "data": {
      "text/plain": [
       "array(['Delhi', 'Mumbai', 'Kolkata', 'Kochi', 'Gurgaon', 'Ghaziabad',\n",
       "       'Ahmedabad', 'Noida', 'Hyderabad', 'Indore', 'Lucknow', 'Pune',\n",
       "       'Jaipur', 'Chennai', 'Bangalore'], dtype=object)"
      ]
     },
     "execution_count": 11,
     "metadata": {},
     "output_type": "execute_result"
    }
   ],
   "source": [
    "df[\"city\"] = city_list\n",
    "df[\"city\"].unique()"
   ]
  },
  {
   "cell_type": "code",
   "execution_count": 12,
   "id": "d00f949d",
   "metadata": {},
   "outputs": [
    {
     "data": {
      "text/plain": [
       "array([2020, 2016, 2018, 2019, 2015, 2017, 2021, 2014, 2011, 2012, 2013,\n",
       "       2022, 2010], dtype=int64)"
      ]
     },
     "execution_count": 12,
     "metadata": {},
     "output_type": "execute_result"
    }
   ],
   "source": [
    "# checking year column\n",
    "df[\"year\"].unique()"
   ]
  },
  {
   "cell_type": "code",
   "execution_count": 13,
   "id": "533bc722",
   "metadata": {},
   "outputs": [
    {
     "data": {
      "text/plain": [
       "array(['FORD', 'Ford', 'Honda', 'HONDA', 'Hyundai', 'HYUNDAI', 'KIA',\n",
       "       'MAHINDRA', 'Mahindra', 'Maruti', 'Renault', 'RENAULT', 'TATA',\n",
       "       'Tata', 'MARUTI'], dtype=object)"
      ]
     },
     "execution_count": 13,
     "metadata": {},
     "output_type": "execute_result"
    }
   ],
   "source": [
    "## checking make column\n",
    "df[\"make\"].unique()"
   ]
  },
  {
   "cell_type": "code",
   "execution_count": 14,
   "id": "9e9ef61b",
   "metadata": {},
   "outputs": [
    {
     "data": {
      "text/plain": [
       "{'Ford', 'Honda', 'Hyundai', 'Kia', 'Mahindra', 'Maruti', 'Renault', 'Tata'}"
      ]
     },
     "execution_count": 14,
     "metadata": {},
     "output_type": "execute_result"
    }
   ],
   "source": [
    "make_list = []\n",
    "for i in df[\"make\"]:\n",
    "    if i == \"FORD\" or i == \"Ford\":\n",
    "        make_list.append(\"Ford\")\n",
    "    elif i == \"Honda\" or i == \"HONDA\":\n",
    "        make_list.append(\"Honda\")\n",
    "    elif i == \"Hyundai\" or i == \"HYUNDAI\":\n",
    "        make_list.append(\"Hyundai\")\n",
    "    elif i == \"KIA\":\n",
    "        make_list.append(\"Kia\")\n",
    "    elif i == \"Mahindra\" or i == \"MAHINDRA\":\n",
    "        make_list.append(\"Mahindra\")\n",
    "    elif i == \"Maruti\" or i == \"MARUTI\":\n",
    "        make_list.append(\"Maruti\")\n",
    "    elif i == \"Renault\" or i == \"RENAULT\":\n",
    "        make_list.append(\"Renault\")\n",
    "    elif i == \"Tata\" or i == \"TATA\":\n",
    "        make_list.append(\"Tata\")\n",
    "    \n",
    "set(make_list)"
   ]
  },
  {
   "cell_type": "code",
   "execution_count": 15,
   "id": "83a79562",
   "metadata": {},
   "outputs": [
    {
     "data": {
      "text/plain": [
       "array(['Ford', 'Honda', 'Hyundai', 'Kia', 'Mahindra', 'Maruti', 'Renault',\n",
       "       'Tata'], dtype=object)"
      ]
     },
     "execution_count": 15,
     "metadata": {},
     "output_type": "execute_result"
    }
   ],
   "source": [
    "df[\"make\"] = make_list\n",
    "df[\"make\"].unique()"
   ]
  },
  {
   "cell_type": "code",
   "execution_count": 16,
   "id": "6ba21bc8",
   "metadata": {},
   "outputs": [
    {
     "data": {
      "text/plain": [
       "array(['ECOSPORT', 'Ecosport', 'FREESTYLE', 'Amaze', 'AMAZE', 'City',\n",
       "       'CITY', 'JAZZ', 'Jazz', 'ELITE I20', 'Elite i20', 'GRAND I10',\n",
       "       'Grand i10', 'NEW SANTRO', 'CARENS', 'SELTOS', 'SONET', 'SCORPIO',\n",
       "       'Scorpio', 'Thar', 'THAR', 'Baleno', 'BALENO', 'Swift', 'SWIFT',\n",
       "       ' New Wagon-R', 'Kiger', 'KWID', 'Kwid', 'TRIBER', 'ALTROZ',\n",
       "       'NEXON', 'Tiago', 'TIAGO'], dtype=object)"
      ]
     },
     "execution_count": 16,
     "metadata": {},
     "output_type": "execute_result"
    }
   ],
   "source": [
    "## checking model volumn\n",
    "df[\"model\"].unique()"
   ]
  },
  {
   "cell_type": "code",
   "execution_count": 17,
   "id": "75687fb3",
   "metadata": {},
   "outputs": [
    {
     "data": {
      "text/plain": [
       "{' New Wagon-R',\n",
       " 'Altroz',\n",
       " 'Amaze',\n",
       " 'Baleno',\n",
       " 'Carens',\n",
       " 'City',\n",
       " 'Ecosport',\n",
       " 'Elite i20',\n",
       " 'Freestyle',\n",
       " 'Grand i10',\n",
       " 'Jazz',\n",
       " 'Kiger',\n",
       " 'Kwid',\n",
       " 'New Santro',\n",
       " 'Nexon',\n",
       " 'Scorpio',\n",
       " 'Seltos',\n",
       " 'Sonet',\n",
       " 'Swift',\n",
       " 'Thar',\n",
       " 'Tiago',\n",
       " 'Triber'}"
      ]
     },
     "execution_count": 17,
     "metadata": {},
     "output_type": "execute_result"
    }
   ],
   "source": [
    "model_list=[]\n",
    "for i in df[\"model\"]: \n",
    "    if i==\"ECOSPORT\" or i==\"Ecosport\":\n",
    "        model_list.append(\"Ecosport\")\n",
    "    elif i==\"FREESTYLE\":\n",
    "        model_list.append(\"Freestyle\")\n",
    "    elif i==\"Amaze\" or i==\"AMAZE\":\n",
    "        model_list.append(\"Amaze\")\n",
    "    elif i==\"City\" or i==\"CITY\":\n",
    "        model_list.append(\"City\")\n",
    "    elif i==\"JAZZ\" or i==\"Jazz\":\n",
    "        model_list.append(\"Jazz\")\n",
    "    elif i==\"ELITE I20\" or i==\"Elite i20\":\n",
    "        model_list.append(\"Elite i20\")\n",
    "    elif i==\"GRAND I10\" or i==\"Grand i10\":\n",
    "        model_list.append(\"Grand i10\")\n",
    "    elif i==\"NEW SANTRO\":\n",
    "        model_list.append(\"New Santro\")\n",
    "    elif i==\"CARENS\": \n",
    "        model_list.append(\"Carens\")\n",
    "    elif i==\"SELTOS\": \n",
    "        model_list.append(\"Seltos\")\n",
    "    elif i==\"SCORPIO\" or i==\"Scorpio\": \n",
    "        model_list.append(\"Scorpio\")\n",
    "    elif i==\"Thar\" or i==\"THAR\":\n",
    "        model_list.append(\"Thar\")\n",
    "    elif i==\"Baleno\" or i==\"BALENO\":\n",
    "        model_list.append(\"Baleno\")\n",
    "    elif i==\"Swift\" or i==\"SWIFT\":\n",
    "        model_list.append(\"Swift\")\n",
    "    elif i==\"New Wagon-R\":\n",
    "        model_list.append(\"New Wagon-R\")\n",
    "    elif i==\"Kiger\":\n",
    "        model_list.append(\"Kiger\")\n",
    "    elif i==\"KWID\" or i==\"Kwid\":\n",
    "        model_list.append(\"Kwid\")\n",
    "    elif i==\"TRIBER\":\n",
    "        model_list.append(\"Triber\")\n",
    "    elif i==\"ALTROZ\":\n",
    "        model_list.append(\"Altroz\")\n",
    "    elif i==\"NEXON\":\n",
    "        model_list.append(\"Nexon\")\n",
    "    elif i==\"Tiago\" or i==\"TIAGO\":\n",
    "        model_list.append(\"Tiago\")\n",
    "    elif i == \"SONET\":\n",
    "        model_list.append(\"Sonet\")\n",
    "    else:\n",
    "        model_list.append(i)\n",
    "\n",
    "set(model_list)"
   ]
  },
  {
   "cell_type": "code",
   "execution_count": 18,
   "id": "e60a0b79",
   "metadata": {},
   "outputs": [
    {
     "data": {
      "text/plain": [
       "22"
      ]
     },
     "execution_count": 18,
     "metadata": {},
     "output_type": "execute_result"
    }
   ],
   "source": [
    "df[\"model\"]=model_list\n",
    "len(df[\"model\"].unique())"
   ]
  },
  {
   "cell_type": "code",
   "execution_count": 19,
   "id": "23305393",
   "metadata": {},
   "outputs": [
    {
     "data": {
      "text/html": [
       "<div>\n",
       "<style scoped>\n",
       "    .dataframe tbody tr th:only-of-type {\n",
       "        vertical-align: middle;\n",
       "    }\n",
       "\n",
       "    .dataframe tbody tr th {\n",
       "        vertical-align: top;\n",
       "    }\n",
       "\n",
       "    .dataframe thead th {\n",
       "        text-align: right;\n",
       "    }\n",
       "</style>\n",
       "<table border=\"1\" class=\"dataframe\">\n",
       "  <thead>\n",
       "    <tr style=\"text-align: right;\">\n",
       "      <th></th>\n",
       "      <th>state</th>\n",
       "      <th>city</th>\n",
       "      <th>year</th>\n",
       "      <th>make</th>\n",
       "      <th>model</th>\n",
       "      <th>series</th>\n",
       "      <th>transmission</th>\n",
       "      <th>fuel</th>\n",
       "      <th>owner</th>\n",
       "      <th>emi</th>\n",
       "      <th>kilometers</th>\n",
       "      <th>mileage</th>\n",
       "      <th>seating</th>\n",
       "      <th>price</th>\n",
       "    </tr>\n",
       "  </thead>\n",
       "  <tbody>\n",
       "    <tr>\n",
       "      <th>0</th>\n",
       "      <td>CapitalUT</td>\n",
       "      <td>Delhi</td>\n",
       "      <td>2020</td>\n",
       "      <td>Ford</td>\n",
       "      <td>Ecosport</td>\n",
       "      <td>TITANIUM 1.5L DIESEL</td>\n",
       "      <td>Manual</td>\n",
       "      <td>Diesel</td>\n",
       "      <td>1st</td>\n",
       "      <td>15425</td>\n",
       "      <td>96075</td>\n",
       "      <td>9</td>\n",
       "      <td>5</td>\n",
       "      <td>789000</td>\n",
       "    </tr>\n",
       "    <tr>\n",
       "      <th>1</th>\n",
       "      <td>CapitalUT</td>\n",
       "      <td>Delhi</td>\n",
       "      <td>2016</td>\n",
       "      <td>Ford</td>\n",
       "      <td>Ecosport</td>\n",
       "      <td>1.5AMBIENTE TI VCT</td>\n",
       "      <td>Manual</td>\n",
       "      <td>Petrol</td>\n",
       "      <td>1st</td>\n",
       "      <td>10792</td>\n",
       "      <td>55017</td>\n",
       "      <td>9</td>\n",
       "      <td>5</td>\n",
       "      <td>552000</td>\n",
       "    </tr>\n",
       "    <tr>\n",
       "      <th>2</th>\n",
       "      <td>CapitalUT</td>\n",
       "      <td>Delhi</td>\n",
       "      <td>2018</td>\n",
       "      <td>Ford</td>\n",
       "      <td>Ecosport</td>\n",
       "      <td>AMBIENTE 1.5L DIESEL</td>\n",
       "      <td>Manual</td>\n",
       "      <td>Diesel</td>\n",
       "      <td>1st</td>\n",
       "      <td>13978</td>\n",
       "      <td>24931</td>\n",
       "      <td>9</td>\n",
       "      <td>5</td>\n",
       "      <td>715000</td>\n",
       "    </tr>\n",
       "    <tr>\n",
       "      <th>3</th>\n",
       "      <td>CapitalUT</td>\n",
       "      <td>Delhi</td>\n",
       "      <td>2019</td>\n",
       "      <td>Ford</td>\n",
       "      <td>Ecosport</td>\n",
       "      <td>TITANIUM 1.5L PETROL</td>\n",
       "      <td>Manual</td>\n",
       "      <td>Petrol</td>\n",
       "      <td>1st</td>\n",
       "      <td>15503</td>\n",
       "      <td>22270</td>\n",
       "      <td>9</td>\n",
       "      <td>5</td>\n",
       "      <td>793000</td>\n",
       "    </tr>\n",
       "    <tr>\n",
       "      <th>4</th>\n",
       "      <td>CapitalUT</td>\n",
       "      <td>Delhi</td>\n",
       "      <td>2015</td>\n",
       "      <td>Ford</td>\n",
       "      <td>Ecosport</td>\n",
       "      <td>TITANIUM 1.5L PETROL AT</td>\n",
       "      <td>Automatic</td>\n",
       "      <td>Petrol</td>\n",
       "      <td>2nd</td>\n",
       "      <td>10440</td>\n",
       "      <td>78906</td>\n",
       "      <td>9</td>\n",
       "      <td>5</td>\n",
       "      <td>534000</td>\n",
       "    </tr>\n",
       "  </tbody>\n",
       "</table>\n",
       "</div>"
      ],
      "text/plain": [
       "       state   city  year  make     model                   series  \\\n",
       "0  CapitalUT  Delhi  2020  Ford  Ecosport     TITANIUM 1.5L DIESEL   \n",
       "1  CapitalUT  Delhi  2016  Ford  Ecosport       1.5AMBIENTE TI VCT   \n",
       "2  CapitalUT  Delhi  2018  Ford  Ecosport     AMBIENTE 1.5L DIESEL   \n",
       "3  CapitalUT  Delhi  2019  Ford  Ecosport     TITANIUM 1.5L PETROL   \n",
       "4  CapitalUT  Delhi  2015  Ford  Ecosport  TITANIUM 1.5L PETROL AT   \n",
       "\n",
       "  transmission    fuel owner    emi  kilometers  mileage  seating   price  \n",
       "0       Manual  Diesel  1st   15425       96075        9        5  789000  \n",
       "1       Manual  Petrol  1st   10792       55017        9        5  552000  \n",
       "2       Manual  Diesel  1st   13978       24931        9        5  715000  \n",
       "3       Manual  Petrol  1st   15503       22270        9        5  793000  \n",
       "4    Automatic  Petrol  2nd   10440       78906        9        5  534000  "
      ]
     },
     "execution_count": 19,
     "metadata": {},
     "output_type": "execute_result"
    }
   ],
   "source": [
    "df.head()"
   ]
  },
  {
   "cell_type": "code",
   "execution_count": 20,
   "id": "43f0ea46",
   "metadata": {},
   "outputs": [
    {
     "data": {
      "text/plain": [
       "array(['Manual', 'Automatic', nan, 'TITANIUM 1.5L PETROL AT',\n",
       "       'TITANIUM 1.5L DIESEL', '1.5AMBIENTE TI VCT',\n",
       "       'TITANIUM 1.5L PETROL', '1.5 TITANIUM TI VCT AT',\n",
       "       '1.5 TITANIUM TI VCT', '1.5TITANIUM TDCI',\n",
       "       '1.5 TITANIUM SIGNATURE TI VCT (SUNROOF)', '1.0 TREND+ (ECOBOOST)',\n",
       "       'AMBIENTE 1.5L DIESEL', 'TREND 1.5L PETROL',\n",
       "       'FLAIR EDITION 1.2 TI VCT', 'TREND+ 1.2 TI-VCT',\n",
       "       'TA PETROL 1.2Manual', 'A PETROL 1.2Manual', 'MA DIESEL 1.3Manual',\n",
       "       'A CVT PETROL 1.2Automatic', 'HA CVT PETROL 1.2Automatic',\n",
       "       'HA PETROL 1.2Manual', ' ABSManual', '+ DUAL TONE Manual',\n",
       "       ' AMTAutomatic', '+Manual', ' OPTManual', 'TA 1.2 K12Manual',\n",
       "       '1.0 PETROLManual', ' PLUSManual', ' (O)Manual',\n",
       "       'A DIESEL 1.3Manual', 'MA PETROL 1.2Manual', 'HA 1.2 K12Manual',\n",
       "       'HA DIESEL 1.3Manual', ' OManual'], dtype=object)"
      ]
     },
     "execution_count": 20,
     "metadata": {},
     "output_type": "execute_result"
    }
   ],
   "source": [
    "df[\"transmission\"].unique()"
   ]
  },
  {
   "cell_type": "code",
   "execution_count": 21,
   "id": "7e3b75b6",
   "metadata": {},
   "outputs": [
    {
     "data": {
      "text/plain": [
       "{'Automatic', 'Manual'}"
      ]
     },
     "execution_count": 21,
     "metadata": {},
     "output_type": "execute_result"
    }
   ],
   "source": [
    "tranmission_list = []\n",
    "for i in df[\"transmission\"]:\n",
    "    if i in [\"Automatic\",\"TITANIUM 1.5L PETROL AT\",\"1.5 TITANIUM TI VCT AT\",\"A CVT PETROL 1.2Automatic\",\n",
    "            \"HA CVT PETROL 1.2Automatic\",\"AMTAutomatic\"]:\n",
    "        tranmission_list.append(\"Automatic\")\n",
    "    else:\n",
    "        tranmission_list.append(\"Manual\")\n",
    "set(tranmission_list)"
   ]
  },
  {
   "cell_type": "code",
   "execution_count": 22,
   "id": "01c12266",
   "metadata": {},
   "outputs": [
    {
     "data": {
      "text/plain": [
       "array(['Manual', 'Automatic'], dtype=object)"
      ]
     },
     "execution_count": 22,
     "metadata": {},
     "output_type": "execute_result"
    }
   ],
   "source": [
    "df[\"transmission\"] = tranmission_list\n",
    "df[\"transmission\"].unique()"
   ]
  },
  {
   "cell_type": "code",
   "execution_count": 23,
   "id": "b760279f",
   "metadata": {},
   "outputs": [
    {
     "data": {
      "text/plain": [
       "array(['Diesel', 'Petrol', 'CNG'], dtype=object)"
      ]
     },
     "execution_count": 23,
     "metadata": {},
     "output_type": "execute_result"
    }
   ],
   "source": [
    "### checking fuel column\n",
    "df[\"fuel\"].unique()"
   ]
  },
  {
   "cell_type": "code",
   "execution_count": 24,
   "id": "4fc158ec",
   "metadata": {},
   "outputs": [
    {
     "data": {
      "text/plain": [
       "array(['1st ', '2nd ', '3rd '], dtype=object)"
      ]
     },
     "execution_count": 24,
     "metadata": {},
     "output_type": "execute_result"
    }
   ],
   "source": [
    "### checking owner\n",
    "df[\"owner\"].unique()"
   ]
  },
  {
   "cell_type": "code",
   "execution_count": 25,
   "id": "9726f11c",
   "metadata": {},
   "outputs": [
    {
     "name": "stdout",
     "output_type": "stream",
     "text": [
      "<class 'pandas.core.frame.DataFrame'>\n",
      "RangeIndex: 2890 entries, 0 to 2889\n",
      "Data columns (total 14 columns):\n",
      " #   Column        Non-Null Count  Dtype \n",
      "---  ------        --------------  ----- \n",
      " 0   state         2890 non-null   object\n",
      " 1   city          2890 non-null   object\n",
      " 2   year          2890 non-null   int64 \n",
      " 3   make          2890 non-null   object\n",
      " 4   model         2890 non-null   object\n",
      " 5   series        2873 non-null   object\n",
      " 6   transmission  2890 non-null   object\n",
      " 7   fuel          2890 non-null   object\n",
      " 8   owner         2890 non-null   object\n",
      " 9   emi           2890 non-null   int64 \n",
      " 10  kilometers    2890 non-null   int64 \n",
      " 11  mileage       2890 non-null   int64 \n",
      " 12  seating       2890 non-null   int64 \n",
      " 13  price         2890 non-null   int64 \n",
      "dtypes: int64(6), object(8)\n",
      "memory usage: 316.2+ KB\n"
     ]
    }
   ],
   "source": [
    "df.info()"
   ]
  },
  {
   "cell_type": "code",
   "execution_count": 26,
   "id": "7b7758d7",
   "metadata": {},
   "outputs": [],
   "source": [
    "### checking series\n",
    "df.drop(\"series\",axis=1,inplace=True)"
   ]
  },
  {
   "cell_type": "code",
   "execution_count": 27,
   "id": "4f6f291b",
   "metadata": {},
   "outputs": [
    {
     "data": {
      "text/html": [
       "<div>\n",
       "<style scoped>\n",
       "    .dataframe tbody tr th:only-of-type {\n",
       "        vertical-align: middle;\n",
       "    }\n",
       "\n",
       "    .dataframe tbody tr th {\n",
       "        vertical-align: top;\n",
       "    }\n",
       "\n",
       "    .dataframe thead th {\n",
       "        text-align: right;\n",
       "    }\n",
       "</style>\n",
       "<table border=\"1\" class=\"dataframe\">\n",
       "  <thead>\n",
       "    <tr style=\"text-align: right;\">\n",
       "      <th></th>\n",
       "      <th>state</th>\n",
       "      <th>city</th>\n",
       "      <th>year</th>\n",
       "      <th>make</th>\n",
       "      <th>model</th>\n",
       "      <th>transmission</th>\n",
       "      <th>fuel</th>\n",
       "      <th>owner</th>\n",
       "      <th>emi</th>\n",
       "      <th>kilometers</th>\n",
       "      <th>mileage</th>\n",
       "      <th>seating</th>\n",
       "      <th>price</th>\n",
       "    </tr>\n",
       "  </thead>\n",
       "  <tbody>\n",
       "    <tr>\n",
       "      <th>0</th>\n",
       "      <td>CapitalUT</td>\n",
       "      <td>Delhi</td>\n",
       "      <td>2020</td>\n",
       "      <td>Ford</td>\n",
       "      <td>Ecosport</td>\n",
       "      <td>Manual</td>\n",
       "      <td>Diesel</td>\n",
       "      <td>1st</td>\n",
       "      <td>15425</td>\n",
       "      <td>96075</td>\n",
       "      <td>9</td>\n",
       "      <td>5</td>\n",
       "      <td>789000</td>\n",
       "    </tr>\n",
       "    <tr>\n",
       "      <th>1</th>\n",
       "      <td>CapitalUT</td>\n",
       "      <td>Delhi</td>\n",
       "      <td>2016</td>\n",
       "      <td>Ford</td>\n",
       "      <td>Ecosport</td>\n",
       "      <td>Manual</td>\n",
       "      <td>Petrol</td>\n",
       "      <td>1st</td>\n",
       "      <td>10792</td>\n",
       "      <td>55017</td>\n",
       "      <td>9</td>\n",
       "      <td>5</td>\n",
       "      <td>552000</td>\n",
       "    </tr>\n",
       "    <tr>\n",
       "      <th>2</th>\n",
       "      <td>CapitalUT</td>\n",
       "      <td>Delhi</td>\n",
       "      <td>2018</td>\n",
       "      <td>Ford</td>\n",
       "      <td>Ecosport</td>\n",
       "      <td>Manual</td>\n",
       "      <td>Diesel</td>\n",
       "      <td>1st</td>\n",
       "      <td>13978</td>\n",
       "      <td>24931</td>\n",
       "      <td>9</td>\n",
       "      <td>5</td>\n",
       "      <td>715000</td>\n",
       "    </tr>\n",
       "    <tr>\n",
       "      <th>3</th>\n",
       "      <td>CapitalUT</td>\n",
       "      <td>Delhi</td>\n",
       "      <td>2019</td>\n",
       "      <td>Ford</td>\n",
       "      <td>Ecosport</td>\n",
       "      <td>Manual</td>\n",
       "      <td>Petrol</td>\n",
       "      <td>1st</td>\n",
       "      <td>15503</td>\n",
       "      <td>22270</td>\n",
       "      <td>9</td>\n",
       "      <td>5</td>\n",
       "      <td>793000</td>\n",
       "    </tr>\n",
       "    <tr>\n",
       "      <th>4</th>\n",
       "      <td>CapitalUT</td>\n",
       "      <td>Delhi</td>\n",
       "      <td>2015</td>\n",
       "      <td>Ford</td>\n",
       "      <td>Ecosport</td>\n",
       "      <td>Automatic</td>\n",
       "      <td>Petrol</td>\n",
       "      <td>2nd</td>\n",
       "      <td>10440</td>\n",
       "      <td>78906</td>\n",
       "      <td>9</td>\n",
       "      <td>5</td>\n",
       "      <td>534000</td>\n",
       "    </tr>\n",
       "  </tbody>\n",
       "</table>\n",
       "</div>"
      ],
      "text/plain": [
       "       state   city  year  make     model transmission    fuel owner    emi  \\\n",
       "0  CapitalUT  Delhi  2020  Ford  Ecosport       Manual  Diesel  1st   15425   \n",
       "1  CapitalUT  Delhi  2016  Ford  Ecosport       Manual  Petrol  1st   10792   \n",
       "2  CapitalUT  Delhi  2018  Ford  Ecosport       Manual  Diesel  1st   13978   \n",
       "3  CapitalUT  Delhi  2019  Ford  Ecosport       Manual  Petrol  1st   15503   \n",
       "4  CapitalUT  Delhi  2015  Ford  Ecosport    Automatic  Petrol  2nd   10440   \n",
       "\n",
       "   kilometers  mileage  seating   price  \n",
       "0       96075        9        5  789000  \n",
       "1       55017        9        5  552000  \n",
       "2       24931        9        5  715000  \n",
       "3       22270        9        5  793000  \n",
       "4       78906        9        5  534000  "
      ]
     },
     "execution_count": 27,
     "metadata": {},
     "output_type": "execute_result"
    }
   ],
   "source": [
    "df.head()"
   ]
  },
  {
   "cell_type": "markdown",
   "id": "bc48d78e",
   "metadata": {},
   "source": [
    "### Missing value treatment"
   ]
  },
  {
   "cell_type": "code",
   "execution_count": 28,
   "id": "42940160",
   "metadata": {},
   "outputs": [
    {
     "data": {
      "text/plain": [
       "state           0\n",
       "city            0\n",
       "year            0\n",
       "make            0\n",
       "model           0\n",
       "transmission    0\n",
       "fuel            0\n",
       "owner           0\n",
       "emi             0\n",
       "kilometers      0\n",
       "mileage         0\n",
       "seating         0\n",
       "price           0\n",
       "dtype: int64"
      ]
     },
     "execution_count": 28,
     "metadata": {},
     "output_type": "execute_result"
    }
   ],
   "source": [
    "## check missing values`\n",
    "df.isnull().sum()"
   ]
  },
  {
   "cell_type": "code",
   "execution_count": 29,
   "id": "c3c0fbfd",
   "metadata": {},
   "outputs": [],
   "source": [
    "#df.to_csv(\"final_used_cars_data\")"
   ]
  },
  {
   "cell_type": "code",
   "execution_count": null,
   "id": "d6ad9792",
   "metadata": {},
   "outputs": [],
   "source": []
  }
 ],
 "metadata": {
  "kernelspec": {
   "display_name": "Python 3 (ipykernel)",
   "language": "python",
   "name": "python3"
  },
  "language_info": {
   "codemirror_mode": {
    "name": "ipython",
    "version": 3
   },
   "file_extension": ".py",
   "mimetype": "text/x-python",
   "name": "python",
   "nbconvert_exporter": "python",
   "pygments_lexer": "ipython3",
   "version": "3.9.13"
  }
 },
 "nbformat": 4,
 "nbformat_minor": 5
}
